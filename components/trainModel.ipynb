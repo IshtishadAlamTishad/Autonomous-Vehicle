{
 "cells": [
  {
   "cell_type": "markdown",
   "metadata": {},
   "source": [
    "### Importing Necessary Libraries"
   ]
  },
  {
   "cell_type": "code",
   "execution_count": null,
   "metadata": {},
   "outputs": [],
   "source": [
    "import tensorflow as tf\n",
    "from tensorflow import keras\n",
    "from tensorflow.keras import layers,models,regularizers,Model\n",
    "from tensorflow.keras.optimizers import Adam\n",
    "from sklearn.model_selection import train_test_split\n",
    "from tensorflow.keras.layers import Layer, Dense, Conv2D, MaxPooling2D,Activation, Concatenate,UpSampling2D,Flatten, BatchNormalization, Dropout, GlobalAveragePooling2D\n",
    "import tensorflow.keras.backend as K\n",
    "import matplotlib.pyplot as plt\n",
    "import numpy as np\n",
    "import cv2\n",
    "from sklearn.metrics import classification_report\n",
    "import os\n",
    "import random\n",
    "import json\n",
    "from tensorflow.keras.utils import plot_model\n",
    "from functools import partial\n",
    "from pathlib import Path\n",
    "from imblearn.over_sampling import SMOTE\n",
    "from sklearn.preprocessing import LabelEncoder\n",
    "from sklearn.preprocessing import OneHotEncoder\n",
    "import utils\n",
    "from tqdm import tqdm\n",
    "from tensorflow.keras.callbacks import EarlyStopping \n",
    "from keras.layers import *\n",
    "import utils\n",
    "import cv2\n",
    "from skimage.segmentation import mark_boundaries\n",
    "from pathlib import Path\n",
    "import numpy as np\n",
    "import matplotlib.pyplot as plt\n",
    "from lime import lime_image\n",
    "\n",
    "%matplotlib inline\n",
    "\n",
    "tf.keras.backend.clear_session()"
   ]
  },
  {
   "cell_type": "markdown",
   "metadata": {},
   "source": [
    "### GPU Config"
   ]
  },
  {
   "cell_type": "code",
   "execution_count": 2,
   "metadata": {},
   "outputs": [
    {
     "name": "stdout",
     "output_type": "stream",
     "text": [
      "[PhysicalDevice(name='/physical_device:GPU:0', device_type='GPU')]\n"
     ]
    }
   ],
   "source": [
    "physical_devices = tf.config.list_physical_devices('GPU')\n",
    "tf.config.set_logical_device_configuration(physical_devices[0],[tf.config.LogicalDeviceConfiguration(memory_limit=4096)])\n",
    "print(physical_devices)"
   ]
  },
  {
   "cell_type": "markdown",
   "metadata": {},
   "source": [
    "### Loading dataset as .JSON format"
   ]
  },
  {
   "cell_type": "code",
   "execution_count": null,
   "metadata": {},
   "outputs": [],
   "source": [
    "def load_dataset(dataset_folder, shuffle=True, balanced=False):\n",
    "    X = []\n",
    "    y = []\n",
    "    json_files = [el for el in dataset_folder.iterdir() if el.suffix == \".json\"]\n",
    "\n",
    "    if shuffle:\n",
    "        random.shuffle(json_files)\n",
    "\n",
    "    for json_file in json_files:\n",
    "        with open(json_file) as f:\n",
    "            sample = json.load(f)\n",
    "\n",
    "        X.append(cv2.imread(sample[\"image\"]))\n",
    "        y.append([sample[\"angle\"]])\n",
    "\n",
    "    #one hot encoding angles : left, straight, right steering direction\n",
    "    one_hot = OneHotEncoder(sparse_output=False)\n",
    "    y = one_hot.fit_transform(y)  #fitting on training data\n",
    "\n",
    "    #convert to np arrays & preprocessing images\n",
    "    \n",
    "    X = np.asarray(X)\n",
    "    X = X.astype(\"float32\")\n",
    "    # Normalize\n",
    "    X = X / 255.0\n",
    "    y = np.asarray(y)\n",
    "\n",
    "    if balanced:\n",
    "        samples_class = int(min(np.sum(y, axis=0)))\n",
    "        X_subsampled = []\n",
    "        y_subsampled = []\n",
    "        for col in range(y.shape[1]):\n",
    "            y_direction = y[:, col]\n",
    "            index = np.where(y_direction == 1)[0]\n",
    "            X_selected = X[index][:samples_class]\n",
    "            y_selected = y[index][:samples_class]\n",
    "            print(X_selected.shape,y_selected.shape)\n",
    "            X_subsampled.extend(X_selected)\n",
    "            y_subsampled.extend(y_selected)\n",
    "\n",
    "        X = np.asarray(X_subsampled)\n",
    "        y = np.asarray(y_subsampled)\n",
    "\n",
    "    X_train, X_test, y_train, y_test = train_test_split(\n",
    "        X, y, test_size=0.25, random_state=42\n",
    "    )\n",
    "\n",
    "    return X_train, X_test, y_train, y_test"
   ]
  },
  {
   "cell_type": "code",
   "execution_count": 4,
   "metadata": {},
   "outputs": [],
   "source": [
    "current_folder = Path.cwd()\n",
    "dataset_folder = current_folder / \"dataset\"\n",
    "images_folder = dataset_folder / \"images\"\n",
    "models_folder = current_folder / \"models\"\n",
    "logs_folder = current_folder / \"logs\"\n"
   ]
  },
  {
   "cell_type": "code",
   "execution_count": 5,
   "metadata": {},
   "outputs": [],
   "source": [
    "X_train, X_test, y_train, y_test = load_dataset(dataset_folder)"
   ]
  },
  {
   "cell_type": "code",
   "execution_count": 6,
   "metadata": {},
   "outputs": [
    {
     "data": {
      "text/plain": [
       "(5522, 64, 128, 3)"
      ]
     },
     "execution_count": 6,
     "metadata": {},
     "output_type": "execute_result"
    }
   ],
   "source": [
    "X_train.shape"
   ]
  },
  {
   "cell_type": "code",
   "execution_count": 7,
   "metadata": {},
   "outputs": [
    {
     "data": {
      "text/plain": [
       "(5522, 3)"
      ]
     },
     "execution_count": 7,
     "metadata": {},
     "output_type": "execute_result"
    }
   ],
   "source": [
    "y_train.shape"
   ]
  },
  {
   "cell_type": "code",
   "execution_count": 8,
   "metadata": {},
   "outputs": [
    {
     "data": {
      "image/png": "[encoded data removed]",
      "text/plain": [
       "<Figure size 640x480 with 1 Axes>"
      ]
     },
     "metadata": {},
     "output_type": "display_data"
    }
   ],
   "source": [
    "plt.hist(y_train)\n",
    "plt.show()"
   ]
  },
  {
   "cell_type": "code",
   "execution_count": 9,
   "metadata": {},
   "outputs": [
    {
     "data": {
      "text/plain": [
       "<matplotlib.image.AxesImage at 0x1f23437d3d0>"
      ]
     },
     "execution_count": 9,
     "metadata": {},
     "output_type": "execute_result"
    },
    {
     "data": {
      "image/png": "[encoded data removed]",
      "text/plain": [
       "<Figure size 640x480 with 1 Axes>"
      ]
     },
     "metadata": {},
     "output_type": "display_data"
    }
   ],
   "source": [
    "def get_image(index):\n",
    "    image = X_train[index]\n",
    "    image_rgb = cv2.cvtColor(image, cv2.COLOR_BGR2RGB)\n",
    "    return image_rgb\n",
    "\n",
    "image_rgb = get_image(1500) \n",
    "\n",
    "plt.axis(\"off\")\n",
    "plt.imshow(image_rgb)"
   ]
  },
  {
   "cell_type": "markdown",
   "metadata": {},
   "source": [
    "### Model"
   ]
  },
  {
   "cell_type": "markdown",
   "metadata": {},
   "source": [
    "Squeeze-and-Excitation (SE) Attention"
   ]
  },
  {
   "cell_type": "code",
   "execution_count": null,
   "metadata": {},
   "outputs": [],
   "source": [
    "def attention_module(x, filters):\n",
    "    \n",
    "    se = GlobalAveragePooling2D()(x)  # Squeeze: Global Pooling\n",
    "    se = Dense(filters // 16, activation=\"relu\")(se)  # Reduce dimension\n",
    "    se = Dense(filters, activation=\"sigmoid\")(se)  # Expand dimension\n",
    "    se = Multiply()([x, se])  # Excitation: Scale input\n",
    "    return se"
   ]
  },
  {
   "cell_type": "code",
   "execution_count": null,
   "metadata": {},
   "outputs": [],
   "source": [
    "\n",
    "def residual_block(x, filters, kernel_size=(3, 3), downsample=False):\n",
    "    \"\"\"Residual Block with SE Attention\"\"\"\n",
    "    shortcut = x  #saved input for skip connection\n",
    "\n",
    "    x = Conv2D(filters, kernel_size, activation='swish', padding='same')(x)\n",
    "    x = BatchNormalization()(x)\n",
    "    x = Conv2D(filters, kernel_size, activation='swish', padding='same')(x)\n",
    "    x = BatchNormalization()(x)\n",
    "\n",
    "    #Applied attention\n",
    "    x = attention_module(x, filters)\n",
    "\n",
    "    #Adjusting shortcut dimensions\n",
    "    if downsample or shortcut.shape[-1] != filters:\n",
    "        shortcut = Conv2D(filters, (1, 1), padding='same')(shortcut)\n",
    "\n",
    "    x = Add()([x, shortcut])  # Skip connection\n",
    "    return x\n"
   ]
  },
  {
   "cell_type": "code",
   "execution_count": null,
   "metadata": {},
   "outputs": [],
   "source": [
    "def CNNModel(input_shape=(64, 128, 3), num_classes=3):\n",
    "\n",
    "    inputs = Input(shape=input_shape)\n",
    "\n",
    "    x = Conv2D(32, (3, 3), activation='relu', padding='same')(inputs)\n",
    "    x = BatchNormalization()(x)\n",
    "    x = MaxPooling2D((2, 2))(x)\n",
    "    x = residual_block(x, filters=64)\n",
    "    x = MaxPooling2D((2, 2))(x)\n",
    "\n",
    "    x = residual_block(x, filters=128)\n",
    "    x = MaxPooling2D((2, 2))(x)\n",
    "\n",
    "    skip = Conv2D(128, (1, 1), padding='same')(inputs)\n",
    "    skip = MaxPooling2D((8, 8))(skip)  \n",
    "\n",
    "    x = Add()([x, skip])  #con+\n",
    "\n",
    "    x = residual_block(x, filters=256)\n",
    "    x = MaxPooling2D((2, 2))(x)\n",
    "\n",
    "    # Global Average Pooling instead of Flatten\n",
    "    x = GlobalAveragePooling2D()(x)\n",
    "\n",
    "    # Fully Connected Layers\n",
    "    x = Dense(256, activation='relu')(x)\n",
    "    x = Dropout(0.3)(x)\n",
    "    x = Dense(128, activation='relu')(x)\n",
    "    x = Dropout(0.3)(x)\n",
    "\n",
    "    outputs = Dense(num_classes, activation='softmax')(x)\n",
    "\n",
    "    model = Model(inputs, outputs)\n",
    "\n",
    "    return model\n"
   ]
  },
  {
   "cell_type": "markdown",
   "metadata": {},
   "source": [
    "Create and summarizing the model"
   ]
  },
  {
   "cell_type": "code",
   "execution_count": null,
   "metadata": {},
   "outputs": [
    {
     "name": "stdout",
     "output_type": "stream",
     "text": [
      "Model: \"model\"\n",
      "__________________________________________________________________________________________________\n",
      " Layer (type)                   Output Shape         Param #     Connected to                     \n",
      "==================================================================================================\n",
      " input_1 (InputLayer)           [(None, 64, 128, 3)  0           []                               \n",
      "                                ]                                                                 \n",
      "                                                                                                  \n",
      " conv2d (Conv2D)                (None, 64, 128, 32)  896         ['input_1[0][0]']                \n",
      "                                                                                                  \n",
      " batch_normalization (BatchNorm  (None, 64, 128, 32)  128        ['conv2d[0][0]']                 \n",
      " alization)                                                                                       \n",
      "                                                                                                  \n",
      " max_pooling2d (MaxPooling2D)   (None, 32, 64, 32)   0           ['batch_normalization[0][0]']    \n",
      "                                                                                                  \n",
      " conv2d_1 (Conv2D)              (None, 32, 64, 64)   18496       ['max_pooling2d[0][0]']          \n",
      "                                                                                                  \n",
      " batch_normalization_1 (BatchNo  (None, 32, 64, 64)  256         ['conv2d_1[0][0]']               \n",
      " rmalization)                                                                                     \n",
      "                                                                                                  \n",
      " conv2d_2 (Conv2D)              (None, 32, 64, 64)   36928       ['batch_normalization_1[0][0]']  \n",
      "                                                                                                  \n",
      " batch_normalization_2 (BatchNo  (None, 32, 64, 64)  256         ['conv2d_2[0][0]']               \n",
      " rmalization)                                                                                     \n",
      "                                                                                                  \n",
      " global_average_pooling2d (Glob  (None, 64)          0           ['batch_normalization_2[0][0]']  \n",
      " alAveragePooling2D)                                                                              \n",
      "                                                                                                  \n",
      " dense (Dense)                  (None, 4)            260         ['global_average_pooling2d[0][0]'\n",
      "                                                                 ]                                \n",
      "                                                                                                  \n",
      " dense_1 (Dense)                (None, 64)           320         ['dense[0][0]']                  \n",
      "                                                                                                  \n",
      " multiply (Multiply)            (None, 32, 64, 64)   0           ['batch_normalization_2[0][0]',  \n",
      "                                                                  'dense_1[0][0]']                \n",
      "                                                                                                  \n",
      " conv2d_3 (Conv2D)              (None, 32, 64, 64)   2112        ['max_pooling2d[0][0]']          \n",
      "                                                                                                  \n",
      " add (Add)                      (None, 32, 64, 64)   0           ['multiply[0][0]',               \n",
      "                                                                  'conv2d_3[0][0]']               \n",
      "                                                                                                  \n",
      " max_pooling2d_1 (MaxPooling2D)  (None, 16, 32, 64)  0           ['add[0][0]']                    \n",
      "                                                                                                  \n",
      " conv2d_4 (Conv2D)              (None, 16, 32, 128)  73856       ['max_pooling2d_1[0][0]']        \n",
      "                                                                                                  \n",
      " batch_normalization_3 (BatchNo  (None, 16, 32, 128)  512        ['conv2d_4[0][0]']               \n",
      " rmalization)                                                                                     \n",
      "                                                                                                  \n",
      " conv2d_5 (Conv2D)              (None, 16, 32, 128)  147584      ['batch_normalization_3[0][0]']  \n",
      "                                                                                                  \n",
      " batch_normalization_4 (BatchNo  (None, 16, 32, 128)  512        ['conv2d_5[0][0]']               \n",
      " rmalization)                                                                                     \n",
      "                                                                                                  \n",
      " global_average_pooling2d_1 (Gl  (None, 128)         0           ['batch_normalization_4[0][0]']  \n",
      " obalAveragePooling2D)                                                                            \n",
      "                                                                                                  \n",
      " dense_2 (Dense)                (None, 8)            1032        ['global_average_pooling2d_1[0][0\n",
      "                                                                 ]']                              \n",
      "                                                                                                  \n",
      " dense_3 (Dense)                (None, 128)          1152        ['dense_2[0][0]']                \n",
      "                                                                                                  \n",
      " multiply_1 (Multiply)          (None, 16, 32, 128)  0           ['batch_normalization_4[0][0]',  \n",
      "                                                                  'dense_3[0][0]']                \n",
      "                                                                                                  \n",
      " conv2d_6 (Conv2D)              (None, 16, 32, 128)  8320        ['max_pooling2d_1[0][0]']        \n",
      "                                                                                                  \n",
      " add_1 (Add)                    (None, 16, 32, 128)  0           ['multiply_1[0][0]',             \n",
      "                                                                  'conv2d_6[0][0]']               \n",
      "                                                                                                  \n",
      " conv2d_7 (Conv2D)              (None, 64, 128, 128  512         ['input_1[0][0]']                \n",
      "                                )                                                                 \n",
      "                                                                                                  \n",
      " max_pooling2d_2 (MaxPooling2D)  (None, 8, 16, 128)  0           ['add_1[0][0]']                  \n",
      "                                                                                                  \n",
      " max_pooling2d_3 (MaxPooling2D)  (None, 8, 16, 128)  0           ['conv2d_7[0][0]']               \n",
      "                                                                                                  \n",
      " add_2 (Add)                    (None, 8, 16, 128)   0           ['max_pooling2d_2[0][0]',        \n",
      "                                                                  'max_pooling2d_3[0][0]']        \n",
      "                                                                                                  \n",
      " conv2d_8 (Conv2D)              (None, 8, 16, 256)   295168      ['add_2[0][0]']                  \n",
      "                                                                                                  \n",
      " batch_normalization_5 (BatchNo  (None, 8, 16, 256)  1024        ['conv2d_8[0][0]']               \n",
      " rmalization)                                                                                     \n",
      "                                                                                                  \n",
      " conv2d_9 (Conv2D)              (None, 8, 16, 256)   590080      ['batch_normalization_5[0][0]']  \n",
      "                                                                                                  \n",
      " batch_normalization_6 (BatchNo  (None, 8, 16, 256)  1024        ['conv2d_9[0][0]']               \n",
      " rmalization)                                                                                     \n",
      "                                                                                                  \n",
      " global_average_pooling2d_2 (Gl  (None, 256)         0           ['batch_normalization_6[0][0]']  \n",
      " obalAveragePooling2D)                                                                            \n",
      "                                                                                                  \n",
      " dense_4 (Dense)                (None, 16)           4112        ['global_average_pooling2d_2[0][0\n",
      "                                                                 ]']                              \n",
      "                                                                                                  \n",
      " dense_5 (Dense)                (None, 256)          4352        ['dense_4[0][0]']                \n",
      "                                                                                                  \n",
      " multiply_2 (Multiply)          (None, 8, 16, 256)   0           ['batch_normalization_6[0][0]',  \n",
      "                                                                  'dense_5[0][0]']                \n",
      "                                                                                                  \n",
      " conv2d_10 (Conv2D)             (None, 8, 16, 256)   33024       ['add_2[0][0]']                  \n",
      "                                                                                                  \n",
      " add_3 (Add)                    (None, 8, 16, 256)   0           ['multiply_2[0][0]',             \n",
      "                                                                  'conv2d_10[0][0]']              \n",
      "                                                                                                  \n",
      " max_pooling2d_4 (MaxPooling2D)  (None, 4, 8, 256)   0           ['add_3[0][0]']                  \n",
      "                                                                                                  \n",
      " global_average_pooling2d_3 (Gl  (None, 256)         0           ['max_pooling2d_4[0][0]']        \n",
      " obalAveragePooling2D)                                                                            \n",
      "                                                                                                  \n",
      " dense_6 (Dense)                (None, 256)          65792       ['global_average_pooling2d_3[0][0\n",
      "                                                                 ]']                              \n",
      "                                                                                                  \n",
      " dropout (Dropout)              (None, 256)          0           ['dense_6[0][0]']                \n",
      "                                                                                                  \n",
      " dense_7 (Dense)                (None, 128)          32896       ['dropout[0][0]']                \n",
      "                                                                                                  \n",
      " dropout_1 (Dropout)            (None, 128)          0           ['dense_7[0][0]']                \n",
      "                                                                                                  \n",
      " dense_8 (Dense)                (None, 3)            387         ['dropout_1[0][0]']              \n",
      "                                                                                                  \n",
      "==================================================================================================\n",
      "Total params: 1,320,991\n",
      "Trainable params: 1,319,135\n",
      "Non-trainable params: 1,856\n",
      "__________________________________________________________________________________________________\n"
     ]
    }
   ],
   "source": [
    "model = CNNModel()\n",
    "model.summary()"
   ]
  },
  {
   "cell_type": "code",
   "execution_count": 14,
   "metadata": {},
   "outputs": [],
   "source": [
    "#plot_model(model, to_file=\"model_architecture.png\", show_shapes=True, show_layer_names=True)"
   ]
  },
  {
   "cell_type": "markdown",
   "metadata": {},
   "source": [
    "### loss\n",
    "- sparse_categorical_crossentropy used for sparse labels (target class index)\n",
    "- categorial_cross_entropy would yield a one hot vector (only one positive label)\n",
    "- mean_squared_error for regression"
   ]
  },
  {
   "cell_type": "code",
   "execution_count": 15,
   "metadata": {},
   "outputs": [],
   "source": [
    "model.compile(\n",
    "    optimizer='sgd', \n",
    "    loss='categorical_crossentropy',\n",
    "    metrics=['accuracy']\n",
    ")"
   ]
  },
  {
   "cell_type": "code",
   "execution_count": 16,
   "metadata": {},
   "outputs": [
    {
     "name": "stdout",
     "output_type": "stream",
     "text": [
      "Epoch 1/20\n",
      "1381/1381 [==============================] - 47s 23ms/step - loss: 0.6200 - accuracy: 0.7687 - val_loss: 0.5727 - val_accuracy: 0.7735\n",
      "Epoch 2/20\n",
      "1381/1381 [==============================] - 27s 20ms/step - loss: 0.5599 - accuracy: 0.7800 - val_loss: 0.5914 - val_accuracy: 0.7729\n",
      "Epoch 3/20\n",
      "1381/1381 [==============================] - 27s 19ms/step - loss: 0.5207 - accuracy: 0.7796 - val_loss: 0.6369 - val_accuracy: 0.7702\n",
      "Epoch 4/20\n",
      "1381/1381 [==============================] - 27s 20ms/step - loss: 0.4928 - accuracy: 0.7850 - val_loss: 0.5426 - val_accuracy: 0.7833\n",
      "Epoch 5/20\n",
      "1381/1381 [==============================] - 28s 20ms/step - loss: 0.4436 - accuracy: 0.7983 - val_loss: 0.4143 - val_accuracy: 0.8273\n",
      "Epoch 6/20\n",
      "1381/1381 [==============================] - 27s 20ms/step - loss: 0.4047 - accuracy: 0.8138 - val_loss: 0.4453 - val_accuracy: 0.7936\n",
      "Epoch 7/20\n",
      "1381/1381 [==============================] - 28s 20ms/step - loss: 0.3646 - accuracy: 0.8339 - val_loss: 0.3113 - val_accuracy: 0.8490\n",
      "Epoch 8/20\n",
      "1381/1381 [==============================] - 27s 20ms/step - loss: 0.3207 - accuracy: 0.8604 - val_loss: 0.3697 - val_accuracy: 0.8555\n",
      "Epoch 9/20\n",
      "1381/1381 [==============================] - 28s 20ms/step - loss: 0.2788 - accuracy: 0.8807 - val_loss: 0.2390 - val_accuracy: 0.8968\n",
      "Epoch 10/20\n",
      "1381/1381 [==============================] - 28s 20ms/step - loss: 0.2309 - accuracy: 0.9057 - val_loss: 0.2282 - val_accuracy: 0.9022\n",
      "Epoch 11/20\n",
      "1381/1381 [==============================] - 28s 20ms/step - loss: 0.1996 - accuracy: 0.9203 - val_loss: 0.1793 - val_accuracy: 0.9359\n",
      "Epoch 12/20\n",
      "1381/1381 [==============================] - 28s 20ms/step - loss: 0.1764 - accuracy: 0.9265 - val_loss: 0.2535 - val_accuracy: 0.8946\n",
      "Epoch 13/20\n",
      "1381/1381 [==============================] - 28s 20ms/step - loss: 0.1336 - accuracy: 0.9507 - val_loss: 0.2904 - val_accuracy: 0.8848\n",
      "Epoch 14/20\n",
      "1381/1381 [==============================] - 28s 20ms/step - loss: 0.1295 - accuracy: 0.9513 - val_loss: 0.1511 - val_accuracy: 0.9381\n",
      "Epoch 15/20\n",
      "1381/1381 [==============================] - 28s 20ms/step - loss: 0.1128 - accuracy: 0.9567 - val_loss: 0.1593 - val_accuracy: 0.9370\n",
      "Epoch 16/20\n",
      "1381/1381 [==============================] - 28s 20ms/step - loss: 0.0906 - accuracy: 0.9658 - val_loss: 0.0934 - val_accuracy: 0.9631\n",
      "Epoch 17/20\n",
      "1381/1381 [==============================] - 28s 20ms/step - loss: 0.0849 - accuracy: 0.9681 - val_loss: 0.1625 - val_accuracy: 0.9408\n",
      "Epoch 18/20\n",
      "1381/1381 [==============================] - 28s 20ms/step - loss: 0.0732 - accuracy: 0.9743 - val_loss: 0.1197 - val_accuracy: 0.9538\n",
      "Epoch 19/20\n",
      "1381/1381 [==============================] - 28s 20ms/step - loss: 0.0647 - accuracy: 0.9774 - val_loss: 0.1098 - val_accuracy: 0.9593\n",
      "Epoch 20/20\n",
      "1381/1381 [==============================] - 28s 20ms/step - loss: 0.0553 - accuracy: 0.9804 - val_loss: 0.1678 - val_accuracy: 0.9441\n"
     ]
    }
   ],
   "source": [
    "history = model.fit(X_train,y_train,epochs=20,batch_size=4,validation_data=(X_test,y_test))"
   ]
  },
  {
   "cell_type": "code",
   "execution_count": null,
   "metadata": {},
   "outputs": [
    {
     "data": {
      "image/png": "[encoded data removed]",
      "text/plain": [
       "<Figure size 1400x600 with 2 Axes>"
      ]
     },
     "metadata": {},
     "output_type": "display_data"
    }
   ],
   "source": [
    "plt.figure(figsize=(14, 6))\n",
    "plt.subplot(1, 2, 1) \n",
    "plt.plot(history.history['accuracy'], label='Training Accuracy')\n",
    "\n",
    "if 'val_accuracy' in history.history:\n",
    "    plt.plot(history.history['val_accuracy'], label='Validation Accuracy')\n",
    "\n",
    "\n",
    "plt.title('Training Accuracy vs Epochs')\n",
    "plt.xlabel('Epochs')\n",
    "plt.ylabel('Accuracy')\n",
    "plt.legend()\n",
    "\n",
    "plt.subplot(1, 2, 2)\n",
    "plt.plot(history.history['loss'], label='Training Loss')\n",
    "\n",
    "if 'val_loss' in history.history:\n",
    "    plt.plot(history.history['val_loss'], label='Validation Loss')\n",
    "\n",
    "plt.title('Training Loss vs Epochs')\n",
    "plt.xlabel('Epochs')\n",
    "plt.ylabel('Loss')\n",
    "plt.legend()\n",
    "plt.tight_layout()  \n",
    "plt.show()"
   ]
  },
  {
   "cell_type": "code",
   "execution_count": 18,
   "metadata": {},
   "outputs": [],
   "source": [
    "os.makedirs(models_folder,exist_ok=True)\n",
    "model.save(models_folder / \"selfDrivingModelUpdatewithAttention.h5\")"
   ]
  },
  {
   "cell_type": "code",
   "execution_count": 19,
   "metadata": {},
   "outputs": [
    {
     "name": "stdout",
     "output_type": "stream",
     "text": [
      "58/58 [==============================] - 2s 23ms/step - loss: 0.1679 - accuracy: 0.9441\n"
     ]
    },
    {
     "data": {
      "text/plain": [
       "[0.16786743700504303, 0.9440521597862244]"
      ]
     },
     "execution_count": 19,
     "metadata": {},
     "output_type": "execute_result"
    }
   ],
   "source": [
    "model.evaluate(X_test,y_test)"
   ]
  },
  {
   "cell_type": "code",
   "execution_count": null,
   "metadata": {},
   "outputs": [
    {
     "name": "stdout",
     "output_type": "stream",
     "text": [
      "58/58 [==============================] - 1s 18ms/step\n"
     ]
    }
   ],
   "source": [
    "y_pred = model.predict(X_test)\n",
    "y_pred = (y_pred > 0.5)  "
   ]
  },
  {
   "cell_type": "code",
   "execution_count": null,
   "metadata": {},
   "outputs": [
    {
     "name": "stdout",
     "output_type": "stream",
     "text": [
      "\n",
      "Classification Report:\n",
      "               precision    recall  f1-score   support\n",
      "\n",
      "           0       0.89      0.96      0.92       357\n",
      "           1       0.99      0.93      0.96      1412\n",
      "           2       0.62      0.99      0.76        72\n",
      "\n",
      "   micro avg       0.94      0.94      0.94      1841\n",
      "   macro avg       0.83      0.96      0.88      1841\n",
      "weighted avg       0.96      0.94      0.95      1841\n",
      " samples avg       0.94      0.94      0.94      1841\n",
      "\n"
     ]
    },
    {
     "name": "stderr",
     "output_type": "stream",
     "text": [
      "c:\\Users\\tisha\\anaconda3\\envs\\TF\\lib\\site-packages\\sklearn\\metrics\\_classification.py:1531: UndefinedMetricWarning: Precision is ill-defined and being set to 0.0 in samples with no predicted labels. Use `zero_division` parameter to control this behavior.\n",
      "  _warn_prf(average, modifier, f\"{metric.capitalize()} is\", len(result))\n"
     ]
    }
   ],
   "source": [
    "report = classification_report(y_test, y_pred)\n",
    "print(\"\\nClassification Report:\\n\", report)"
   ]
  },
  {
   "cell_type": "code",
   "execution_count": null,
   "metadata": {},
   "outputs": [],
   "source": [
    "\n",
    "\n",
    "current_folder = Path(\"\")\n",
    "images_folder = current_folder / \"dataset\" / \"images\"\n",
    "models_folder = current_folder / \"models\"\n",
    "latest_image_path = utils.get_latest_file_path(images_folder)\n",
    "\n",
    "model = utils.get_model(models_folder, -1)  # -1 -- latest\n",
    "\n",
    "for layer in model.layers:\n",
    "    layer.trainable = False\n",
    "\n",
    "image = cv2.imread(str(latest_image_path))\n",
    "image = utils.preprocess_images(image)\n",
    "\n",
    "#reshape image -> 4 dimensions\n",
    "image_rs = image.reshape(1, image.shape[0], image.shape[1], image.shape[2])"
   ]
  },
  {
   "cell_type": "markdown",
   "metadata": {},
   "source": [
    "- Left image: pixels used for classification \n",
    "- Right image: green increase the probability of being of the true class\n",
    "- the ones colored in red decrease the proability"
   ]
  },
  {
   "cell_type": "code",
   "execution_count": null,
   "metadata": {},
   "outputs": [],
   "source": [
    "def imageExp(image_id):\n",
    "    image_path = images_folder / f\"image_{image_id}.png\"\n",
    "\n",
    "    image = cv2.imread(str(image_path))\n",
    "    image = utils.preprocess_images(image)\n",
    "\n",
    "    \n",
    "\n",
    "    explainer = lime_image.LimeImageExplainer()\n",
    "\n",
    "    #if top_labels grater than 1 -> the positive area increases\n",
    "    explanation = explainer.explain_instance(image.astype(\"double\"), model,\n",
    "                                             top_labels=1, hide_color=0, num_samples=1000)\n",
    "\n",
    "    image_rs = image.reshape(1, image.shape[0], image.shape[1], image.shape[2])\n",
    "    output = np.array(model(image_rs, training=False))[0]\n",
    "    if len(output) == 1:\n",
    "        print(f\"Angle {float(angle):.2f}\")\n",
    "    else:\n",
    "        print(output)\n",
    "\n",
    "    \n",
    "\n",
    "    temp_1, mask_1 = explanation.get_image_and_mask(explanation.top_labels[0], positive_only=True, num_features=5, hide_rest=True)\n",
    "    temp_2, mask_2 = explanation.get_image_and_mask(explanation.top_labels[0], positive_only=False, num_features=10, hide_rest=False)\n",
    "\n",
    "    fig, (ax1, ax2) = plt.subplots(1, 2, figsize=(15,15))\n",
    "    ax1.imshow(mark_boundaries(temp_1, mask_1))\n",
    "    ax2.imshow(mark_boundaries(temp_2, mask_2))\n",
    "    ax1.axis(\"off\")\n",
    "    ax2.axis(\"off\")\n",
    "    plt.show()\n",
    "\n",
    "   "
   ]
  },
  {
   "cell_type": "code",
   "execution_count": null,
   "metadata": {},
   "outputs": [],
   "source": [
    "imageExp(64)"
   ]
  },
  {
   "cell_type": "code",
   "execution_count": null,
   "metadata": {},
   "outputs": [],
   "source": [
    "imageExp(128)"
   ]
  },
  {
   "cell_type": "code",
   "execution_count": null,
   "metadata": {},
   "outputs": [],
   "source": [
    "imageExp(256)"
   ]
  },
  {
   "cell_type": "code",
   "execution_count": null,
   "metadata": {},
   "outputs": [],
   "source": [
    "imageExp(512)"
   ]
  },
  {
   "cell_type": "code",
   "execution_count": null,
   "metadata": {},
   "outputs": [],
   "source": [
    "imageExp(1024)"
   ]
  },
  {
   "cell_type": "code",
   "execution_count": null,
   "metadata": {},
   "outputs": [],
   "source": [
    "imageExp(3000)"
   ]
  }
 ],
 "metadata": {
  "kernelspec": {
   "display_name": "TF",
   "language": "python",
   "name": "python3"
  },
  "language_info": {
   "codemirror_mode": {
    "name": "ipython",
    "version": 3
   },
   "file_extension": ".py",
   "mimetype": "text/x-python",
   "name": "python",
   "nbconvert_exporter": "python",
   "pygments_lexer": "ipython3",
   "version": "3.9.18"
  }
 },
 "nbformat": 4,
 "nbformat_minor": 2
}
